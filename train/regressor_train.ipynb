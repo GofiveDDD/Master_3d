{
 "cells": [
  {
   "cell_type": "code",
   "execution_count": 1,
   "id": "fd0b82bc",
   "metadata": {},
   "outputs": [],
   "source": [
    "# =========================\n",
    "# 0) path\n",
    "# =========================\n",
    "ROOT       = r\"D:\\bishe\\data_nor_14_w3_64\"       \n",
    "PATH_JSON  = r\"D:\\bishe\\avian\\bird_eccv.json\"    \n",
    "PATH_PRIOR = r\"D:\\bishe\\avian\\pose_bone_prior.pth\"  \n",
    "SAVE_DIR   = r\"D:\\bishe\\re_out\"                  \n",
    "\n",
    "import torch\n",
    "DEVICE     = \"cuda\" if torch.cuda.is_available() else \"cpu\"\n",
    "BATCH_SIZE = 16\n",
    "LR         = 1e-3\n",
    "EPOCHS     = 100          \n",
    "VAL_SPLIT  = 0.1\n",
    "SEED       = 42\n",
    "PATIENCE   = 5            \n",
    "IMPROVE_EPS= 1e-6         "
   ]
  },
  {
   "cell_type": "code",
   "execution_count": 2,
   "id": "4bd3d205",
   "metadata": {},
   "outputs": [],
   "source": [
    "# 1) import\n",
    "# =========================\n",
    "import os, json, gc, math, random\n",
    "import numpy as np\n",
    "from PIL import Image\n",
    "import matplotlib.pyplot as plt\n",
    "\n",
    "import torch.nn as nn\n",
    "import torch.nn.functional as F\n",
    "from torch.utils.data import Dataset, Subset, DataLoader\n",
    "from torchvision import transforms\n",
    "from tqdm import tqdm\n",
    "\n",
    "os.makedirs(SAVE_DIR, exist_ok=True)\n",
    "torch.manual_seed(SEED); np.random.seed(SEED); random.seed(SEED)\n",
    "\n",
    "# =========================\n",
    "# 2) def\n",
    "# =========================\n",
    "def rot6d_to_rotmat(x: torch.Tensor) -> torch.Tensor:\n",
    "    \"\"\"\n",
    "    x: [B, 25*6]  ->  R: [B, 25, 3, 3]\n",
    "    \"\"\"\n",
    "    B = x.shape[0]\n",
    "    x = x.view(B, -1, 6)\n",
    "    a1 = x[..., :3]\n",
    "    a2 = x[..., 3:6]\n",
    "    b1 = F.normalize(a1, dim=-1)\n",
    "    b2 = F.normalize(a2 - (b1 * (a2 * b1).sum(dim=-1, keepdim=True)), dim=-1)\n",
    "    b3 = torch.cross(b1, b2, dim=-1)\n",
    "    return torch.stack([b1, b2, b3], dim=-2)\n"
   ]
  },
  {
   "cell_type": "code",
   "execution_count": 3,
   "id": "b7e97186",
   "metadata": {},
   "outputs": [],
   "source": [
    "# 3) LBS & Bird model\n",
    "# =========================\n",
    "class LBS:\n",
    "    def __init__(self, J, parents, weights):\n",
    "        self.n_joints = J.shape[1]\n",
    "        self.h_joints = F.pad(J.unsqueeze(-1), [0,0,0,1], value=0)\n",
    "        self.kin_tree = torch.cat([J[:,[0], :], J[:, 1:] - J[:, parents[1:]]], dim=1).unsqueeze(-1)\n",
    "        self.parents = parents\n",
    "        self.weights = weights[None].float()\n",
    "\n",
    "    def __call__(self, V, pose, bone, scale, to_rotmats=False):\n",
    "        B = V.shape[0]; device = V.device\n",
    "        V = F.pad(V.unsqueeze(-1), [0,0,0,1], value=1)  # [B,V,4,1]\n",
    "        kin_tree = (scale * self.kin_tree) * bone[:, :, None, None]\n",
    "\n",
    "        T = torch.zeros([B, self.n_joints, 4, 4], device=device, dtype=V.dtype)\n",
    "        T[:, :, -1, -1] = 1\n",
    "        T[:, :, :3, :]  = torch.cat([pose, kin_tree], dim=-1)\n",
    "\n",
    "        T_rel = [T[:, 0]]\n",
    "        for i in range(1, self.n_joints):\n",
    "            T_rel.append(T_rel[self.parents[i]] @ T[:, i])\n",
    "        T_rel = torch.stack(T_rel, dim=1)\n",
    "        T_rel[:, :, :, [-1]] -= T_rel.clone() @ (self.h_joints * scale)\n",
    "\n",
    "        T_ = self.weights @ T_rel.view(B, self.n_joints, -1)\n",
    "        T_ = T_.view(B, -1, 4, 4)\n",
    "        V = T_ @ V\n",
    "        return V[:, :, :3, 0]  # [B,V,3]\n",
    "\n",
    "class BirdModel:\n",
    "    def __init__(self, json_path, prior_path=None, device=\"cpu\"):\n",
    "        self.device = device\n",
    "        with open(json_path, \"r\") as f:\n",
    "            dd = json.load(f)\n",
    "        self.parents  = torch.tensor(dd[\"kintree_table\"][0], device=device, dtype=torch.long)\n",
    "        self.weights  = torch.tensor(dd[\"weights\"], device=device).float()\n",
    "        self.vert2kpt = torch.tensor(dd[\"vert2kpt\"], device=device).float()  # [12, V]\n",
    "        self.J = torch.tensor(dd[\"J\"], device=device).unsqueeze(0).float()   # [1,J,3]\n",
    "        self.V = torch.tensor(dd[\"V\"], device=device).unsqueeze(0).float()   # [1,V,3]\n",
    "        self.LBS = LBS(self.J, self.parents, self.weights)\n",
    "        self.n_joints = self.J.shape[1]\n",
    "\n",
    "        self.b_mean = None\n",
    "        if prior_path and os.path.isfile(prior_path):\n",
    "            prior = torch.load(prior_path, map_location=device)\n",
    "            if \"b_m\" in prior:\n",
    "                self.b_mean = prior[\"b_m\"].to(device).float()\n",
    "\n",
    "    def __call__(self, global_R, body_R, bone_length, scale=1.0):\n",
    "        dtype = torch.float32\n",
    "        global_R   = global_R.to(dtype)\n",
    "        body_R     = body_R.to(dtype)\n",
    "        bone_length= bone_length.to(dtype)\n",
    "\n",
    "        B = global_R.shape[0]\n",
    "        V = (self.V * scale).repeat([B,1,1]).to(dtype)\n",
    "\n",
    "        bone = torch.cat([torch.ones([B,1], device=self.device, dtype=dtype), bone_length], dim=1)\n",
    "        pose = torch.cat([global_R, body_R], dim=1)  # [B,25,3,3]\n",
    "\n",
    "        verts = self.LBS(V, pose, bone, scale, to_rotmats=False)  # [B,V,3] float32\n",
    "        kpts3d = torch.einsum(\"kv, bvd -> bkd\", self.vert2kpt.to(dtype), verts)  # [B,12,3]\n",
    "        return {\"vertices\": verts, \"keypoints\": kpts3d}\n"
   ]
  },
  {
   "cell_type": "markdown",
   "id": "2246b0ee",
   "metadata": {},
   "source": [
    "# Model define"
   ]
  },
  {
   "cell_type": "code",
   "execution_count": null,
   "id": "32b7c35c",
   "metadata": {},
   "outputs": [],
   "source": [
    "# 4) regressor（PoseNet + ShapeNet）\n",
    "# =========================\n",
    "class PoseNet(nn.Module):\n",
    "    def __init__(self):\n",
    "        super().__init__()\n",
    "        self.layer1 = nn.Sequential(nn.Linear(36,512), nn.BatchNorm1d(512), nn.ReLU())\n",
    "        self.layer2 = nn.Sequential(nn.Linear(512,512), nn.BatchNorm1d(512), nn.ReLU())\n",
    "        self.final  = nn.Linear(512, 25*6 + 3)\n",
    "    def forward(self, x):\n",
    "        return self.final(self.layer2(self.layer1(x)))\n",
    "\n",
    "class ShapeNet(nn.Module):\n",
    "    def __init__(self):\n",
    "        super().__init__()\n",
    "        self.layer1 = nn.Sequential(nn.Conv2d(1, 8, 5, 2, 2), nn.BatchNorm2d(8), nn.ReLU(), nn.MaxPool2d(2,2))\n",
    "        self.layer2 = nn.Sequential(nn.Conv2d(8, 8, 3, 1, 1), nn.BatchNorm2d(8), nn.ReLU(), nn.MaxPool2d(2,2))\n",
    "        self.layer3 = nn.Sequential(nn.Conv2d(8,16, 3, 1, 1), nn.BatchNorm2d(16),nn.ReLU(), nn.MaxPool2d(2,2))\n",
    "        self.layer4 = nn.Sequential(nn.Conv2d(16,32,3, 1, 1), nn.BatchNorm2d(32),nn.ReLU(), nn.MaxPool2d(2,2))\n",
    "        self.layer5 = nn.Sequential(nn.Conv2d(32,64,3, 1, 1), nn.BatchNorm2d(64),nn.ReLU(), nn.MaxPool2d(2,2))\n",
    "        self.gap    = nn.AdaptiveAvgPool2d(1)\n",
    "        self.fc     = nn.Linear(64, 24)\n",
    "    def forward(self, x):\n",
    "        x = self.layer5(self.layer4(self.layer3(self.layer2(self.layer1(x)))))\n",
    "        x = self.gap(x).flatten(1)   # [B,64]\n",
    "        return self.fc(x)\n",
    "\n",
    "class Regressor(nn.Module):\n",
    "    def __init__(self):\n",
    "        super().__init__()\n",
    "        self.pose_head  = PoseNet()\n",
    "        self.shape_head = ShapeNet()\n",
    "    def forward(self, k36, mask):\n",
    "        pt   = self.pose_head(k36)    # [B,25*6+3]\n",
    "        bone = self.shape_head(mask)  # [B,24]\n",
    "        return pt, bone\n",
    "    def postprocess(self, pt, bone):\n",
    "        rot6d = pt[:, :-3]\n",
    "        tran  = pt[:, -3:]\n",
    "        R = rot6d_to_rotmat(rot6d)    # [B,25,3,3]\n",
    "        return R, tran, bone"
   ]
  },
  {
   "cell_type": "code",
   "execution_count": 5,
   "id": "2b55d4ce",
   "metadata": {},
   "outputs": [],
   "source": [
    "# 5) dataset（14→12  + mask）\n",
    "\n",
    "AVIAN14_TO_MODEL12 = [0, 2, 3, 4, 5, 8, 9, 10, 11, 12, 13, 6]\n",
    "\n",
    "class AvianDataset(Dataset):\n",
    "    def __init__(self, root, to_mask_size=64):\n",
    "        self.root = root\n",
    "        self.ids  = sorted([d for d in os.listdir(root) if os.path.isdir(os.path.join(root,d))])\n",
    "        self.tfm_mask = transforms.Compose([\n",
    "            transforms.Resize((to_mask_size, to_mask_size)),\n",
    "            transforms.ToTensor(),   # -> [1,H,W],\n",
    "        ])\n",
    "    def __len__(self): return len(self.ids)\n",
    "    def __getitem__(self, idx):\n",
    "        sid = self.ids[idx]\n",
    "        dd  = os.path.join(self.root, sid)\n",
    "\n",
    "        k = np.load(os.path.join(dd, \"keypoints14_norm.npy\")).astype(np.float32)   # [14,2] or [14,3]\n",
    "        kxy = k[:, :2]                                           # only (x,y) in [0,1]\n",
    "        k36 = np.zeros(36, dtype=np.float32); k36[:28] = kxy.reshape(-1)  # 28 flatten + 8 个 0\n",
    "\n",
    "        k12 = kxy[AVIAN14_TO_MODEL12]  # [12,2]\n",
    "\n",
    "        m = Image.open(os.path.join(dd, \"mask.png\")).convert(\"L\")\n",
    "        m = self.tfm_mask(m)           # [1,H,W]\n",
    "\n",
    "        item = {\n",
    "            \"id\":   sid,\n",
    "            \"k36\":  torch.from_numpy(k36),      # [36]\n",
    "            \"k12\":  torch.from_numpy(k12),      # [12,2]\n",
    "            \"mask\": m                           # [1,H,W]\n",
    "        }\n",
    "        return item"
   ]
  },
  {
   "cell_type": "code",
   "execution_count": 6,
   "id": "b68c7f52",
   "metadata": {},
   "outputs": [],
   "source": [
    "def project_points_lstsq_fp32(k3d, k2d):\n",
    "    B, N, _ = k3d.shape\n",
    "    ones = torch.ones(B, N, 1, device=k3d.device, dtype=k3d.dtype)\n",
    "    A = torch.cat([k3d, ones], dim=-1)     # [B,12,4]\n",
    "\n",
    "    A32 = A.float(); U32 = k2d.float()\n",
    "    outs = []\n",
    "    for b in range(B):\n",
    "        sol = torch.linalg.lstsq(A32[b], U32[b]).solution  # [4,2]\n",
    "        outs.append(A32[b] @ sol)                          # [12,2]\n",
    "    return torch.stack(outs, 0)\n",
    "\n",
    "def reproj_loss(U_pred, U_gt):\n",
    "    return F.smooth_l1_loss(U_pred, U_gt, reduction=\"mean\")\n",
    "\n",
    "def bone_reg_loss(bone, bird: BirdModel, w=0.1):\n",
    "    if bird.b_mean is None:\n",
    "        return w * (bone**2).mean()\n",
    "    return w * F.mse_loss(bone, bird.b_mean.expand_as(bone))"
   ]
  },
  {
   "cell_type": "code",
   "execution_count": 7,
   "id": "6375277f",
   "metadata": {},
   "outputs": [
    {
     "name": "stdout",
     "output_type": "stream",
     "text": [
      "Train: 10610  Val: 1178  Total: 11788\n"
     ]
    }
   ],
   "source": [
    "# 7) train/val\n",
    "# =========================\n",
    "full_ds = AvianDataset(ROOT, to_mask_size=64)\n",
    "N = len(full_ds)\n",
    "idx = np.arange(N); rng = np.random.RandomState(SEED); rng.shuffle(idx)\n",
    "n_val = max(1, int(N * VAL_SPLIT))\n",
    "val_idx = idx[:n_val]; train_idx = idx[n_val:]\n",
    "\n",
    "train_ds = Subset(full_ds, train_idx)\n",
    "val_ds   = Subset(full_ds, val_idx)\n",
    "\n",
    "train_dl = DataLoader(train_ds, batch_size=BATCH_SIZE, shuffle=True,  num_workers=0, drop_last=True)\n",
    "val_dl   = DataLoader(val_ds,   batch_size=BATCH_SIZE, shuffle=False, num_workers=0, drop_last=False)\n",
    "\n",
    "print(f\"Train: {len(train_ds)}  Val: {len(val_ds)}  Total: {N}\")\n"
   ]
  },
  {
   "cell_type": "code",
   "execution_count": 8,
   "id": "00f88588",
   "metadata": {},
   "outputs": [],
   "source": [
    "# 8) net\n",
    "# =========================\n",
    "reg  = Regressor().to(DEVICE)\n",
    "bird = BirdModel(PATH_JSON, prior_path=PATH_PRIOR, device=DEVICE)\n",
    "opt  = torch.optim.Adam(reg.parameters(), lr=LR)\n",
    "\n",
    "use_amp = (DEVICE == \"cuda\")\n",
    "autocast = torch.amp.autocast\n",
    "scaler   = torch.amp.GradScaler(\"cuda\") if use_amp else None\n",
    "\n",
    "# =========================\n",
    "# 9) forward\n",
    "# =========================\n",
    "def forward_batch(batch):\n",
    "    k36 = batch[\"k36\"].to(DEVICE).float()     # [B,36]\n",
    "    msk = batch[\"mask\"].to(DEVICE).float()    # [B,1,H,W]\n",
    "    k12 = batch[\"k12\"].to(DEVICE).float()     # [B,12,2]\n",
    "\n",
    "    with autocast(\"cuda\", enabled=use_amp):\n",
    "        pt, bone = reg(k36, msk)              # pt:[B,25*6+3], bone:[B,24]\n",
    "        R, tran, bone = reg.postprocess(pt, bone)  # R:[B,25,3,3]\n",
    "\n",
    "    R32    = R.float()\n",
    "    bone32 = bone.float()\n",
    "    out    = bird(R32[:, :1], R32[:, 1:], bone32, scale=1.0)\n",
    "    k3d    = out[\"keypoints\"]                # [B,12,3]\n",
    "\n",
    "    U_pred = project_points_lstsq_fp32(k3d, k12)  # [B,12,2]\n",
    "    loss_re = reproj_loss(U_pred, k12)\n",
    "    loss_b  = bone_reg_loss(bone32, bird, w=0.1)\n",
    "    loss    = loss_re + loss_b\n",
    "    return loss, loss_re, loss_b\n"
   ]
  },
  {
   "cell_type": "markdown",
   "id": "235fbb6e",
   "metadata": {},
   "source": [
    "# Train"
   ]
  },
  {
   "cell_type": "code",
   "execution_count": 9,
   "id": "a85bb129",
   "metadata": {},
   "outputs": [
    {
     "name": "stderr",
     "output_type": "stream",
     "text": [
      "                                                                                                             \r"
     ]
    },
    {
     "name": "stdout",
     "output_type": "stream",
     "text": [
      "[Epoch 01] Train  reproj=0.0152  bone=0.0018  total=0.0170 | Val  reproj=0.0086  bone=0.0002  total=0.0088\n",
      "  ↳ ✅ 最优模型更新：D:\\bishe\\re_out\\regressor_best.pth (epoch=1, val_total=0.0088)\n"
     ]
    },
    {
     "name": "stderr",
     "output_type": "stream",
     "text": [
      "                                                                                                             \r"
     ]
    },
    {
     "name": "stdout",
     "output_type": "stream",
     "text": [
      "[Epoch 02] Train  reproj=0.0084  bone=0.0004  total=0.0088 | Val  reproj=0.0078  bone=0.0003  total=0.0081\n",
      "  ↳ ✅ 最优模型更新：D:\\bishe\\re_out\\regressor_best.pth (epoch=2, val_total=0.0081)\n"
     ]
    },
    {
     "name": "stderr",
     "output_type": "stream",
     "text": [
      "                                                                                                             \r"
     ]
    },
    {
     "name": "stdout",
     "output_type": "stream",
     "text": [
      "[Epoch 03] Train  reproj=0.0067  bone=0.0003  total=0.0071 | Val  reproj=0.0061  bone=0.0002  total=0.0063\n",
      "  ↳ ✅ 最优模型更新：D:\\bishe\\re_out\\regressor_best.pth (epoch=3, val_total=0.0063)\n"
     ]
    },
    {
     "name": "stderr",
     "output_type": "stream",
     "text": [
      "                                                                                                             \r"
     ]
    },
    {
     "name": "stdout",
     "output_type": "stream",
     "text": [
      "[Epoch 04] Train  reproj=0.0063  bone=0.0003  total=0.0065 | Val  reproj=0.0052  bone=0.0002  total=0.0054\n",
      "  ↳ ✅ 最优模型更新：D:\\bishe\\re_out\\regressor_best.pth (epoch=4, val_total=0.0054)\n"
     ]
    },
    {
     "name": "stderr",
     "output_type": "stream",
     "text": [
      "                                                                                                             \r"
     ]
    },
    {
     "name": "stdout",
     "output_type": "stream",
     "text": [
      "[Epoch 05] Train  reproj=0.0057  bone=0.0003  total=0.0059 | Val  reproj=0.0044  bone=0.0001  total=0.0045\n",
      "  ↳ ✅ 最优模型更新：D:\\bishe\\re_out\\regressor_best.pth (epoch=5, val_total=0.0045)\n"
     ]
    },
    {
     "name": "stderr",
     "output_type": "stream",
     "text": [
      "                                                                                                             \r"
     ]
    },
    {
     "name": "stdout",
     "output_type": "stream",
     "text": [
      "[Epoch 06] Train  reproj=0.0054  bone=0.0002  total=0.0056 | Val  reproj=0.0051  bone=0.0001  total=0.0052\n",
      "  ↳ 验证集无提升（1/5）\n"
     ]
    },
    {
     "name": "stderr",
     "output_type": "stream",
     "text": [
      "                                                                                                             \r"
     ]
    },
    {
     "name": "stdout",
     "output_type": "stream",
     "text": [
      "[Epoch 07] Train  reproj=0.0048  bone=0.0002  total=0.0050 | Val  reproj=0.0051  bone=0.0002  total=0.0053\n",
      "  ↳ 验证集无提升（2/5）\n"
     ]
    },
    {
     "name": "stderr",
     "output_type": "stream",
     "text": [
      "                                                                                                             \r"
     ]
    },
    {
     "name": "stdout",
     "output_type": "stream",
     "text": [
      "[Epoch 08] Train  reproj=0.0043  bone=0.0002  total=0.0045 | Val  reproj=0.0042  bone=0.0001  total=0.0043\n",
      "  ↳ ✅ 最优模型更新：D:\\bishe\\re_out\\regressor_best.pth (epoch=8, val_total=0.0043)\n"
     ]
    },
    {
     "name": "stderr",
     "output_type": "stream",
     "text": [
      "                                                                                                             \r"
     ]
    },
    {
     "name": "stdout",
     "output_type": "stream",
     "text": [
      "[Epoch 09] Train  reproj=0.0040  bone=0.0001  total=0.0041 | Val  reproj=0.0058  bone=0.0009  total=0.0067\n",
      "  ↳ 验证集无提升（1/5）\n"
     ]
    },
    {
     "name": "stderr",
     "output_type": "stream",
     "text": [
      "                                                                                                             \r"
     ]
    },
    {
     "name": "stdout",
     "output_type": "stream",
     "text": [
      "[Epoch 10] Train  reproj=0.0041  bone=0.0002  total=0.0043 | Val  reproj=0.0042  bone=0.0003  total=0.0045\n",
      "  ↳ 验证集无提升（2/5）\n"
     ]
    },
    {
     "name": "stderr",
     "output_type": "stream",
     "text": [
      "                                                                                                             \r"
     ]
    },
    {
     "name": "stdout",
     "output_type": "stream",
     "text": [
      "[Epoch 11] Train  reproj=0.0041  bone=0.0001  total=0.0042 | Val  reproj=0.0038  bone=0.0000  total=0.0039\n",
      "  ↳ ✅ 最优模型更新：D:\\bishe\\re_out\\regressor_best.pth (epoch=11, val_total=0.0039)\n"
     ]
    },
    {
     "name": "stderr",
     "output_type": "stream",
     "text": [
      "                                                                                                             \r"
     ]
    },
    {
     "name": "stdout",
     "output_type": "stream",
     "text": [
      "[Epoch 12] Train  reproj=0.0041  bone=0.0001  total=0.0042 | Val  reproj=0.0036  bone=0.0001  total=0.0037\n",
      "  ↳ ✅ 最优模型更新：D:\\bishe\\re_out\\regressor_best.pth (epoch=12, val_total=0.0037)\n"
     ]
    },
    {
     "name": "stderr",
     "output_type": "stream",
     "text": [
      "                                                                                                             \r"
     ]
    },
    {
     "name": "stdout",
     "output_type": "stream",
     "text": [
      "[Epoch 13] Train  reproj=0.0038  bone=0.0001  total=0.0039 | Val  reproj=0.0046  bone=0.0003  total=0.0049\n",
      "  ↳ 验证集无提升（1/5）\n"
     ]
    },
    {
     "name": "stderr",
     "output_type": "stream",
     "text": [
      "                                                                                                             \r"
     ]
    },
    {
     "name": "stdout",
     "output_type": "stream",
     "text": [
      "[Epoch 14] Train  reproj=0.0034  bone=0.0001  total=0.0035 | Val  reproj=0.0036  bone=0.0003  total=0.0039\n",
      "  ↳ 验证集无提升（2/5）\n"
     ]
    },
    {
     "name": "stderr",
     "output_type": "stream",
     "text": [
      "                                                                                                             \r"
     ]
    },
    {
     "name": "stdout",
     "output_type": "stream",
     "text": [
      "[Epoch 15] Train  reproj=0.0032  bone=0.0001  total=0.0033 | Val  reproj=0.0038  bone=0.0001  total=0.0039\n",
      "  ↳ 验证集无提升（3/5）\n"
     ]
    },
    {
     "name": "stderr",
     "output_type": "stream",
     "text": [
      "                                                                                                             \r"
     ]
    },
    {
     "name": "stdout",
     "output_type": "stream",
     "text": [
      "[Epoch 16] Train  reproj=0.0032  bone=0.0001  total=0.0033 | Val  reproj=0.0034  bone=0.0001  total=0.0035\n",
      "  ↳ ✅ 最优模型更新：D:\\bishe\\re_out\\regressor_best.pth (epoch=16, val_total=0.0035)\n"
     ]
    },
    {
     "name": "stderr",
     "output_type": "stream",
     "text": [
      "                                                                                                             \r"
     ]
    },
    {
     "name": "stdout",
     "output_type": "stream",
     "text": [
      "[Epoch 17] Train  reproj=0.0033  bone=0.0001  total=0.0034 | Val  reproj=0.0030  bone=0.0001  total=0.0032\n",
      "  ↳ ✅ 最优模型更新：D:\\bishe\\re_out\\regressor_best.pth (epoch=17, val_total=0.0032)\n"
     ]
    },
    {
     "name": "stderr",
     "output_type": "stream",
     "text": [
      "                                                                                                             \r"
     ]
    },
    {
     "name": "stdout",
     "output_type": "stream",
     "text": [
      "[Epoch 18] Train  reproj=0.0029  bone=0.0001  total=0.0030 | Val  reproj=0.0025  bone=0.0001  total=0.0026\n",
      "  ↳ ✅ 最优模型更新：D:\\bishe\\re_out\\regressor_best.pth (epoch=18, val_total=0.0026)\n"
     ]
    },
    {
     "name": "stderr",
     "output_type": "stream",
     "text": [
      "                                                                                                             \r"
     ]
    },
    {
     "name": "stdout",
     "output_type": "stream",
     "text": [
      "[Epoch 19] Train  reproj=0.0029  bone=0.0001  total=0.0029 | Val  reproj=0.0026  bone=0.0000  total=0.0026\n",
      "  ↳ 验证集无提升（1/5）\n"
     ]
    },
    {
     "name": "stderr",
     "output_type": "stream",
     "text": [
      "                                                                                                             \r"
     ]
    },
    {
     "name": "stdout",
     "output_type": "stream",
     "text": [
      "[Epoch 20] Train  reproj=0.0028  bone=0.0001  total=0.0029 | Val  reproj=0.0032  bone=0.0001  total=0.0033\n",
      "  ↳ 验证集无提升（2/5）\n"
     ]
    },
    {
     "name": "stderr",
     "output_type": "stream",
     "text": [
      "                                                                                                             \r"
     ]
    },
    {
     "name": "stdout",
     "output_type": "stream",
     "text": [
      "[Epoch 21] Train  reproj=0.0028  bone=0.0001  total=0.0029 | Val  reproj=0.0024  bone=0.0001  total=0.0024\n",
      "  ↳ ✅ 最优模型更新：D:\\bishe\\re_out\\regressor_best.pth (epoch=21, val_total=0.0024)\n"
     ]
    },
    {
     "name": "stderr",
     "output_type": "stream",
     "text": [
      "                                                                                                             \r"
     ]
    },
    {
     "name": "stdout",
     "output_type": "stream",
     "text": [
      "[Epoch 22] Train  reproj=0.0028  bone=0.0001  total=0.0029 | Val  reproj=0.0023  bone=0.0000  total=0.0024\n",
      "  ↳ ✅ 最优模型更新：D:\\bishe\\re_out\\regressor_best.pth (epoch=22, val_total=0.0024)\n"
     ]
    },
    {
     "name": "stderr",
     "output_type": "stream",
     "text": [
      "                                                                                                             \r"
     ]
    },
    {
     "name": "stdout",
     "output_type": "stream",
     "text": [
      "[Epoch 23] Train  reproj=0.0026  bone=0.0001  total=0.0027 | Val  reproj=0.0025  bone=0.0001  total=0.0026\n",
      "  ↳ 验证集无提升（1/5）\n"
     ]
    },
    {
     "name": "stderr",
     "output_type": "stream",
     "text": [
      "                                                                                                             \r"
     ]
    },
    {
     "name": "stdout",
     "output_type": "stream",
     "text": [
      "[Epoch 24] Train  reproj=0.0026  bone=0.0001  total=0.0026 | Val  reproj=0.0024  bone=0.0001  total=0.0025\n",
      "  ↳ 验证集无提升（2/5）\n"
     ]
    },
    {
     "name": "stderr",
     "output_type": "stream",
     "text": [
      "                                                                                                             \r"
     ]
    },
    {
     "name": "stdout",
     "output_type": "stream",
     "text": [
      "[Epoch 25] Train  reproj=0.0025  bone=0.0001  total=0.0025 | Val  reproj=0.0022  bone=0.0000  total=0.0023\n",
      "  ↳ ✅ 最优模型更新：D:\\bishe\\re_out\\regressor_best.pth (epoch=25, val_total=0.0023)\n"
     ]
    },
    {
     "name": "stderr",
     "output_type": "stream",
     "text": [
      "                                                                                                             \r"
     ]
    },
    {
     "name": "stdout",
     "output_type": "stream",
     "text": [
      "[Epoch 26] Train  reproj=0.0023  bone=0.0000  total=0.0023 | Val  reproj=0.0026  bone=0.0000  total=0.0027\n",
      "  ↳ 验证集无提升（1/5）\n"
     ]
    },
    {
     "name": "stderr",
     "output_type": "stream",
     "text": [
      "                                                                                                             \r"
     ]
    },
    {
     "name": "stdout",
     "output_type": "stream",
     "text": [
      "[Epoch 27] Train  reproj=0.0023  bone=0.0001  total=0.0023 | Val  reproj=0.0025  bone=0.0000  total=0.0025\n",
      "  ↳ 验证集无提升（2/5）\n"
     ]
    },
    {
     "name": "stderr",
     "output_type": "stream",
     "text": [
      "                                                                                                             \r"
     ]
    },
    {
     "name": "stdout",
     "output_type": "stream",
     "text": [
      "[Epoch 28] Train  reproj=0.0023  bone=0.0001  total=0.0023 | Val  reproj=0.0022  bone=0.0000  total=0.0022\n",
      "  ↳ ✅ 最优模型更新：D:\\bishe\\re_out\\regressor_best.pth (epoch=28, val_total=0.0022)\n"
     ]
    },
    {
     "name": "stderr",
     "output_type": "stream",
     "text": [
      "                                                                                                             \r"
     ]
    },
    {
     "name": "stdout",
     "output_type": "stream",
     "text": [
      "[Epoch 29] Train  reproj=0.0024  bone=0.0001  total=0.0025 | Val  reproj=0.0024  bone=0.0000  total=0.0024\n",
      "  ↳ 验证集无提升（1/5）\n"
     ]
    },
    {
     "name": "stderr",
     "output_type": "stream",
     "text": [
      "                                                                                                             \r"
     ]
    },
    {
     "name": "stdout",
     "output_type": "stream",
     "text": [
      "[Epoch 30] Train  reproj=0.0023  bone=0.0001  total=0.0023 | Val  reproj=0.0021  bone=0.0000  total=0.0021\n",
      "  ↳ ✅ 最优模型更新：D:\\bishe\\re_out\\regressor_best.pth (epoch=30, val_total=0.0021)\n"
     ]
    },
    {
     "name": "stderr",
     "output_type": "stream",
     "text": [
      "                                                                                                             \r"
     ]
    },
    {
     "name": "stdout",
     "output_type": "stream",
     "text": [
      "[Epoch 31] Train  reproj=0.0023  bone=0.0001  total=0.0023 | Val  reproj=0.0021  bone=0.0001  total=0.0021\n",
      "  ↳ 验证集无提升（1/5）\n"
     ]
    },
    {
     "name": "stderr",
     "output_type": "stream",
     "text": [
      "                                                                                                             \r"
     ]
    },
    {
     "name": "stdout",
     "output_type": "stream",
     "text": [
      "[Epoch 32] Train  reproj=0.0023  bone=0.0000  total=0.0023 | Val  reproj=0.0021  bone=0.0001  total=0.0021\n",
      "  ↳ 验证集无提升（2/5）\n"
     ]
    },
    {
     "name": "stderr",
     "output_type": "stream",
     "text": [
      "                                                                                                             \r"
     ]
    },
    {
     "name": "stdout",
     "output_type": "stream",
     "text": [
      "[Epoch 33] Train  reproj=0.0022  bone=0.0000  total=0.0022 | Val  reproj=0.0020  bone=0.0000  total=0.0021\n",
      "  ↳ ✅ 最优模型更新：D:\\bishe\\re_out\\regressor_best.pth (epoch=33, val_total=0.0021)\n"
     ]
    },
    {
     "name": "stderr",
     "output_type": "stream",
     "text": [
      "                                                                                                             \r"
     ]
    },
    {
     "name": "stdout",
     "output_type": "stream",
     "text": [
      "[Epoch 34] Train  reproj=0.0021  bone=0.0000  total=0.0021 | Val  reproj=0.0021  bone=0.0000  total=0.0021\n",
      "  ↳ 验证集无提升（1/5）\n"
     ]
    },
    {
     "name": "stderr",
     "output_type": "stream",
     "text": [
      "                                                                                                             \r"
     ]
    },
    {
     "name": "stdout",
     "output_type": "stream",
     "text": [
      "[Epoch 35] Train  reproj=0.0021  bone=0.0001  total=0.0021 | Val  reproj=0.0028  bone=0.0001  total=0.0028\n",
      "  ↳ 验证集无提升（2/5）\n"
     ]
    },
    {
     "name": "stderr",
     "output_type": "stream",
     "text": [
      "                                                                                                             \r"
     ]
    },
    {
     "name": "stdout",
     "output_type": "stream",
     "text": [
      "[Epoch 36] Train  reproj=0.0021  bone=0.0000  total=0.0022 | Val  reproj=0.0020  bone=0.0001  total=0.0021\n",
      "  ↳ 验证集无提升（3/5）\n"
     ]
    },
    {
     "name": "stderr",
     "output_type": "stream",
     "text": [
      "                                                                                                             \r"
     ]
    },
    {
     "name": "stdout",
     "output_type": "stream",
     "text": [
      "[Epoch 37] Train  reproj=0.0020  bone=0.0000  total=0.0020 | Val  reproj=0.0018  bone=0.0000  total=0.0018\n",
      "  ↳ ✅ 最优模型更新：D:\\bishe\\re_out\\regressor_best.pth (epoch=37, val_total=0.0018)\n"
     ]
    },
    {
     "name": "stderr",
     "output_type": "stream",
     "text": [
      "                                                                                                             \r"
     ]
    },
    {
     "name": "stdout",
     "output_type": "stream",
     "text": [
      "[Epoch 38] Train  reproj=0.0020  bone=0.0000  total=0.0020 | Val  reproj=0.0024  bone=0.0000  total=0.0024\n",
      "  ↳ 验证集无提升（1/5）\n"
     ]
    },
    {
     "name": "stderr",
     "output_type": "stream",
     "text": [
      "                                                                                                             \r"
     ]
    },
    {
     "name": "stdout",
     "output_type": "stream",
     "text": [
      "[Epoch 39] Train  reproj=0.0020  bone=0.0000  total=0.0020 | Val  reproj=0.0018  bone=0.0000  total=0.0019\n",
      "  ↳ 验证集无提升（2/5）\n"
     ]
    },
    {
     "name": "stderr",
     "output_type": "stream",
     "text": [
      "                                                                                                             \r"
     ]
    },
    {
     "name": "stdout",
     "output_type": "stream",
     "text": [
      "[Epoch 40] Train  reproj=0.0020  bone=0.0000  total=0.0020 | Val  reproj=0.0019  bone=0.0001  total=0.0020\n",
      "  ↳ 验证集无提升（3/5）\n"
     ]
    },
    {
     "name": "stderr",
     "output_type": "stream",
     "text": [
      "                                                                                                             \r"
     ]
    },
    {
     "name": "stdout",
     "output_type": "stream",
     "text": [
      "[Epoch 41] Train  reproj=0.0019  bone=0.0000  total=0.0020 | Val  reproj=0.0020  bone=0.0000  total=0.0020\n",
      "  ↳ 验证集无提升（4/5）\n"
     ]
    },
    {
     "name": "stderr",
     "output_type": "stream",
     "text": [
      "                                                                                                             \r"
     ]
    },
    {
     "name": "stdout",
     "output_type": "stream",
     "text": [
      "[Epoch 42] Train  reproj=0.0019  bone=0.0000  total=0.0019 | Val  reproj=0.0018  bone=0.0000  total=0.0018\n",
      "  ↳ ✅ 最优模型更新：D:\\bishe\\re_out\\regressor_best.pth (epoch=42, val_total=0.0018)\n"
     ]
    },
    {
     "name": "stderr",
     "output_type": "stream",
     "text": [
      "                                                                                                             \r"
     ]
    },
    {
     "name": "stdout",
     "output_type": "stream",
     "text": [
      "[Epoch 43] Train  reproj=0.0019  bone=0.0000  total=0.0019 | Val  reproj=0.0021  bone=0.0001  total=0.0022\n",
      "  ↳ 验证集无提升（1/5）\n"
     ]
    },
    {
     "name": "stderr",
     "output_type": "stream",
     "text": [
      "                                                                                                             \r"
     ]
    },
    {
     "name": "stdout",
     "output_type": "stream",
     "text": [
      "[Epoch 44] Train  reproj=0.0018  bone=0.0000  total=0.0018 | Val  reproj=0.0018  bone=0.0000  total=0.0019\n",
      "  ↳ 验证集无提升（2/5）\n"
     ]
    },
    {
     "name": "stderr",
     "output_type": "stream",
     "text": [
      "                                                                                                             \r"
     ]
    },
    {
     "name": "stdout",
     "output_type": "stream",
     "text": [
      "[Epoch 45] Train  reproj=0.0018  bone=0.0000  total=0.0019 | Val  reproj=0.0019  bone=0.0001  total=0.0019\n",
      "  ↳ 验证集无提升（3/5）\n"
     ]
    },
    {
     "name": "stderr",
     "output_type": "stream",
     "text": [
      "                                                                                                             \r"
     ]
    },
    {
     "name": "stdout",
     "output_type": "stream",
     "text": [
      "[Epoch 46] Train  reproj=0.0018  bone=0.0000  total=0.0019 | Val  reproj=0.0018  bone=0.0000  total=0.0019\n",
      "  ↳ 验证集无提升（4/5）\n"
     ]
    },
    {
     "name": "stderr",
     "output_type": "stream",
     "text": [
      "                                                                                                             \r"
     ]
    },
    {
     "name": "stdout",
     "output_type": "stream",
     "text": [
      "[Epoch 47] Train  reproj=0.0017  bone=0.0000  total=0.0018 | Val  reproj=0.0017  bone=0.0000  total=0.0018\n",
      "  ↳ ✅ 最优模型更新：D:\\bishe\\re_out\\regressor_best.pth (epoch=47, val_total=0.0018)\n"
     ]
    },
    {
     "name": "stderr",
     "output_type": "stream",
     "text": [
      "                                                                                                             \r"
     ]
    },
    {
     "name": "stdout",
     "output_type": "stream",
     "text": [
      "[Epoch 48] Train  reproj=0.0018  bone=0.0000  total=0.0019 | Val  reproj=0.0019  bone=0.0000  total=0.0020\n",
      "  ↳ 验证集无提升（1/5）\n"
     ]
    },
    {
     "name": "stderr",
     "output_type": "stream",
     "text": [
      "                                                                                                             \r"
     ]
    },
    {
     "name": "stdout",
     "output_type": "stream",
     "text": [
      "[Epoch 49] Train  reproj=0.0019  bone=0.0000  total=0.0019 | Val  reproj=0.0020  bone=0.0000  total=0.0020\n",
      "  ↳ 验证集无提升（2/5）\n"
     ]
    },
    {
     "name": "stderr",
     "output_type": "stream",
     "text": [
      "                                                                                                             \r"
     ]
    },
    {
     "name": "stdout",
     "output_type": "stream",
     "text": [
      "[Epoch 50] Train  reproj=0.0018  bone=0.0000  total=0.0019 | Val  reproj=0.0024  bone=0.0001  total=0.0025\n",
      "  ↳ 验证集无提升（3/5）\n"
     ]
    },
    {
     "name": "stderr",
     "output_type": "stream",
     "text": [
      "                                                                                                             \r"
     ]
    },
    {
     "name": "stdout",
     "output_type": "stream",
     "text": [
      "[Epoch 51] Train  reproj=0.0017  bone=0.0000  total=0.0018 | Val  reproj=0.0019  bone=0.0000  total=0.0019\n",
      "  ↳ 验证集无提升（4/5）\n"
     ]
    },
    {
     "name": "stderr",
     "output_type": "stream",
     "text": [
      "                                                                                                             \r"
     ]
    },
    {
     "name": "stdout",
     "output_type": "stream",
     "text": [
      "[Epoch 52] Train  reproj=0.0017  bone=0.0000  total=0.0017 | Val  reproj=0.0023  bone=0.0001  total=0.0023\n",
      "  ↳ 验证集无提升（5/5）\n",
      "🛑 早停触发：连续 5 个 epoch 验证集无提升。最佳 epoch = 47，val_total = 0.0018\n",
      "✅ 结束。已保存：\n",
      "  best  → D:\\bishe\\re_out\\regressor_best.pth\n",
      "  last  → D:\\bishe\\re_out\\regressor_last.pth\n",
      "  final → D:\\bishe\\re_out\\regressor_final.pth\n"
     ]
    }
   ],
   "source": [
    "# 10) train\n",
    "# =========================\n",
    "hist = {\"train_reproj\":[], \"train_bone\":[], \"train_total\":[],\n",
    "        \"val_reproj\":[],   \"val_bone\":[],   \"val_total\":[]}\n",
    "\n",
    "best_val = math.inf\n",
    "epochs_no_improve = 0\n",
    "best_epoch = 0\n",
    "\n",
    "best_path  = os.path.join(SAVE_DIR, \"regressor_best.pth\")\n",
    "last_path  = os.path.join(SAVE_DIR, \"regressor_last.pth\")\n",
    "final_path = os.path.join(SAVE_DIR, \"regressor_final.pth\")\n",
    "\n",
    "for epoch in range(1, EPOCHS+1):\n",
    "    # ----- Train -----\n",
    "    reg.train()\n",
    "    tr_re = tr_b = tr_tot = 0.0\n",
    "    pbar = tqdm(train_dl, desc=f\"Epoch {epoch:02d} [Train]\", leave=False)\n",
    "    for batch in pbar:\n",
    "        opt.zero_grad(set_to_none=True)\n",
    "        loss, loss_re, loss_b = forward_batch(batch)\n",
    "\n",
    "        if scaler:\n",
    "            scaler.scale(loss).backward()\n",
    "            scaler.step(opt)\n",
    "            scaler.update()\n",
    "        else:\n",
    "            loss.backward()\n",
    "            opt.step()\n",
    "\n",
    "        tr_re  += float(loss_re.detach())\n",
    "        tr_b   += float(loss_b.detach())\n",
    "        tr_tot += float(loss.detach())\n",
    "        pbar.set_postfix(reproj=f\"{tr_re/(pbar.n+1):.4f}\",\n",
    "                         bone=f\"{tr_b/(pbar.n+1):.4f}\",\n",
    "                         total=f\"{tr_tot/(pbar.n+1):.4f}\")\n",
    "\n",
    "    n_tr = len(train_dl)\n",
    "    tr_re_avg, tr_b_avg, tr_tot_avg = tr_re/n_tr, tr_b/n_tr, tr_tot/n_tr\n",
    "\n",
    "    # ----- Val -----\n",
    "    reg.eval()\n",
    "    va_re = va_b = va_tot = 0.0\n",
    "    with torch.no_grad():\n",
    "        pbarv = tqdm(val_dl, desc=f\"Epoch {epoch:02d} [Val]\", leave=False)\n",
    "        for batch in pbarv:\n",
    "            loss, loss_re, loss_b = forward_batch(batch)\n",
    "            va_re  += float(loss_re)\n",
    "            va_b   += float(loss_b)\n",
    "            va_tot += float(loss)\n",
    "            pbarv.set_postfix(reproj=f\"{va_re/(pbarv.n+1):.4f}\",\n",
    "                              bone=f\"{va_b/(pbarv.n+1):.4f}\",\n",
    "                              total=f\"{va_tot/(pbarv.n+1):.4f}\")\n",
    "\n",
    "    n_va = max(1, len(val_dl))\n",
    "    va_re_avg, va_b_avg, va_tot_avg = va_re/n_va, va_b/n_va, va_tot/n_va\n",
    "\n",
    "    # —— save —— #\n",
    "    torch.save({\n",
    "        \"epoch\": epoch,\n",
    "        \"model_state_dict\": reg.state_dict(),\n",
    "        \"optimizer_state_dict\": opt.state_dict(),\n",
    "    }, last_path)\n",
    "\n",
    "    # —— print —— #\n",
    "    hist[\"train_reproj\"].append(tr_re_avg);  hist[\"train_bone\"].append(tr_b_avg);  hist[\"train_total\"].append(tr_tot_avg)\n",
    "    hist[\"val_reproj\"].append(va_re_avg);    hist[\"val_bone\"].append(va_b_avg);    hist[\"val_total\"].append(va_tot_avg)\n",
    "    print(f\"[Epoch {epoch:02d}] \"\n",
    "          f\"Train  reproj={tr_re_avg:.4f}  bone={tr_b_avg:.4f}  total={tr_tot_avg:.4f} | \"\n",
    "          f\"Val  reproj={va_re_avg:.4f}  bone={va_b_avg:.4f}  total={va_tot_avg:.4f}\")\n",
    "\n",
    "    # —— best early stop —— #\n",
    "    if va_tot_avg < best_val - IMPROVE_EPS:\n",
    "        best_val = va_tot_avg\n",
    "        best_epoch = epoch\n",
    "        epochs_no_improve = 0\n",
    "        torch.save({\n",
    "            \"epoch\": epoch,\n",
    "            \"model_state_dict\": reg.state_dict(),\n",
    "            \"optimizer_state_dict\": opt.state_dict(),\n",
    "            \"best_val\": best_val\n",
    "        }, best_path)\n",
    "        print(f\"  ↳ ✅ upload new：{best_path} (epoch={epoch}, val_total={best_val:.4f})\")\n",
    "    else:\n",
    "        epochs_no_improve += 1\n",
    "        print(f\"  ↳ No improvement on validation set（{epochs_no_improve}/{PATIENCE}）\")\n",
    "        if epochs_no_improve >= PATIENCE:\n",
    "            print(f\"🛑 early stop：continue {PATIENCE}  epoch No improvement on validation set。best epoch = {best_epoch}，val_total = {best_val:.4f}\")\n",
    "            break\n",
    "\n",
    "    gc.collect()\n",
    "    if DEVICE == \"cuda\":\n",
    "        torch.cuda.empty_cache()\n",
    "\n",
    "# —— save final —— #\n",
    "torch.save({\"model_state_dict\": reg.state_dict(), \"hist\": hist}, final_path)\n",
    "print(f\"✅ finish。best：\\n  best  → {best_path}\\n  last  → {last_path}\\n  final → {final_path}\")"
   ]
  },
  {
   "cell_type": "code",
   "execution_count": 10,
   "id": "ace30146",
   "metadata": {},
   "outputs": [
    {
     "data": {
      "image/png": "[encoded data removed]",
      "text/plain": [
       "<Figure size 1000x400 with 2 Axes>"
      ]
     },
     "metadata": {},
     "output_type": "display_data"
    },
    {
     "name": "stdout",
     "output_type": "stream",
     "text": [
      "📈 曲线图已保存到： D:\\bishe\\re_out\\loss_curves.png\n"
     ]
    }
   ],
   "source": [
    "# =========================\n",
    "# 11) loss save\n",
    "# =========================\n",
    "plt.figure(figsize=(10,4))\n",
    "plt.subplot(1,2,1)\n",
    "plt.plot(hist[\"train_total\"], label=\"train_total\")\n",
    "plt.plot(hist[\"val_total\"],   label=\"val_total\")\n",
    "plt.title(\"Total Loss\"); plt.xlabel(\"Epoch\"); plt.legend(); plt.grid(True, alpha=0.3)\n",
    "\n",
    "plt.subplot(1,2,2)\n",
    "plt.plot(hist[\"train_reproj\"], label=\"train_reproj\")\n",
    "plt.plot(hist[\"val_reproj\"],   label=\"val_reproj\")\n",
    "plt.title(\"Reprojection Loss\"); plt.xlabel(\"Epoch\"); plt.legend(); plt.grid(True, alpha=0.3)\n",
    "\n",
    "plt.tight_layout()\n",
    "curve_path = os.path.join(SAVE_DIR, \"loss_curves.png\")\n",
    "plt.savefig(curve_path, dpi=150)\n",
    "plt.show()\n",
    "print(\"📈 curve save：\", curve_path)"
   ]
  },
  {
   "cell_type": "markdown",
   "id": "9b8d0adf",
   "metadata": {},
   "source": [
    "# visualization"
   ]
  },
  {
   "cell_type": "code",
   "execution_count": 1,
   "id": "2c74a5ca",
   "metadata": {},
   "outputs": [
    {
     "name": "stdout",
     "output_type": "stream",
     "text": [
      "load_state_dict missing: []\n",
      "load_state_dict unexpected: []\n"
     ]
    },
    {
     "data": {
      "image/png": "[encoded data removed]",
      "text/plain": [
       "<Figure size 1000x500 with 2 Axes>"
      ]
     },
     "metadata": {},
     "output_type": "display_data"
    }
   ],
   "source": [
    "# =========================\n",
    "# 0) change path\n",
    "# =========================\n",
    "ROOT       = r\"D:\\bishe\\data_nor_14_w3_64\"               \n",
    "SID        = \"000570\"                                   \n",
    "PATH_JSON  = r\"D:\\bishe\\avian\\bird_eccv.json\"           \n",
    "PATH_PRIOR = r\"D:\\bishe\\avian\\pose_bone_prior.pth\"       \n",
    "CKPT_PATH  = r\"D:\\bishe\\re_out\\regressor_best.pth\"       \n",
    "\n",
    "import os, json, numpy as np\n",
    "import torch, torch.nn as nn, torch.nn.functional as F\n",
    "from PIL import Image\n",
    "import matplotlib.pyplot as plt\n",
    "import torchvision.transforms as T\n",
    "\n",
    "DEVICE = \"cuda\" if torch.cuda.is_available() else \"cpu\"\n",
    "\n",
    "# =========================\n",
    "# 1) tools\n",
    "# =========================\n",
    "def rot6d_to_rotmat(x: torch.Tensor) -> torch.Tensor:\n",
    "    B = x.shape[0]\n",
    "    x = x.view(B, -1, 6)\n",
    "    a1 = x[..., :3]\n",
    "    a2 = x[..., 3:6]\n",
    "    b1 = F.normalize(a1, dim=-1)\n",
    "    b2 = F.normalize(a2 - (b1 * (a2*b1).sum(dim=-1, keepdim=True)), dim=-1)\n",
    "    b3 = torch.cross(b1, b2, dim=-1)\n",
    "    return torch.stack([b1, b2, b3], dim=-2)\n",
    "\n",
    "class LBS:\n",
    "    def __init__(self, J, parents, weights):\n",
    "        self.n_joints = J.shape[1]\n",
    "        self.h_joints = F.pad(J.unsqueeze(-1), [0,0,0,1], value=0)\n",
    "        self.kin_tree = torch.cat([J[:,[0], :], J[:, 1:]-J[:, parents[1:]]], dim=1).unsqueeze(-1)\n",
    "        self.parents = parents\n",
    "        self.weights = weights[None].float()\n",
    "    def __call__(self, V, pose, bone, scale, to_rotmats=False):\n",
    "        B = V.shape[0]; device = V.device\n",
    "        V = F.pad(V.unsqueeze(-1), [0,0,0,1], value=1)                 # [B,V,4,1]\n",
    "        kin_tree = (scale*self.kin_tree) * bone[:, :, None, None]      # [B,J,3,1]\n",
    "        T = torch.zeros([B, self.n_joints, 4, 4], device=device, dtype=V.dtype)\n",
    "        T[:, :, -1, -1] = 1\n",
    "        T[:, :, :3, :]  = torch.cat([pose, kin_tree], dim=-1)\n",
    "        T_rel = [T[:, 0]]\n",
    "        for i in range(1, self.n_joints):\n",
    "            T_rel.append(T_rel[self.parents[i]] @ T[:, i])\n",
    "        T_rel = torch.stack(T_rel, dim=1)\n",
    "        T_rel[:,:,:,[-1]] -= T_rel.clone() @ (self.h_joints*scale)\n",
    "        T_ = self.weights @ T_rel.view(B, self.n_joints, -1)\n",
    "        T_ = T_.view(B, -1, 4, 4)\n",
    "        V = T_ @ V\n",
    "        return V[:, :, :3, 0]  # [B,V,3]\n",
    "\n",
    "class BirdModel:\n",
    "    def __init__(self, json_path, prior_path=None, device=\"cpu\"):\n",
    "        self.device = device\n",
    "        with open(json_path, \"r\") as f:\n",
    "            dd = json.load(f)\n",
    "        self.parents  = torch.tensor(dd[\"kintree_table\"][0], device=device, dtype=torch.long)\n",
    "        self.weights  = torch.tensor(dd[\"weights\"], device=device).float()\n",
    "        self.vert2kpt = torch.tensor(dd[\"vert2kpt\"], device=device).float()  # [12,V]\n",
    "        self.J = torch.tensor(dd[\"J\"], device=device).unsqueeze(0).float()\n",
    "        self.V = torch.tensor(dd[\"V\"], device=device).unsqueeze(0).float()\n",
    "        self.LBS = LBS(self.J, self.parents, self.weights)\n",
    "        self.n_joints = self.J.shape[1]\n",
    "        self.b_mean = None\n",
    "        if prior_path and os.path.isfile(prior_path):\n",
    "            prior = torch.load(prior_path, map_location=device)\n",
    "            if \"b_m\" in prior: self.b_mean = prior[\"b_m\"].to(device).float()\n",
    "    def __call__(self, global_R, body_R, bone, scale=1.0):\n",
    "        B = global_R.shape[0]; dtype = torch.float32\n",
    "        V = (self.V * scale).repeat([B,1,1]).to(dtype)\n",
    "        pose = torch.cat([global_R.to(dtype), body_R.to(dtype)], dim=1)\n",
    "        bone = torch.cat([torch.ones([B,1], device=self.device, dtype=dtype), bone.to(dtype)], dim=1)\n",
    "        verts = self.LBS(V, pose, bone, scale, to_rotmats=False)\n",
    "        k3d   = torch.einsum(\"kv,bvd->bkd\", self.vert2kpt.to(dtype), verts)  # [B,12,3]\n",
    "        return {\"vertices\": verts, \"keypoints\": k3d}\n",
    "\n",
    "# regesstor\n",
    "class PoseNet(nn.Module):\n",
    "    def __init__(self):\n",
    "        super().__init__()\n",
    "        self.layer1 = nn.Sequential(nn.Linear(36,512), nn.BatchNorm1d(512), nn.ReLU())\n",
    "        self.layer2 = nn.Sequential(nn.Linear(512,512), nn.BatchNorm1d(512), nn.ReLU())\n",
    "        self.final  = nn.Linear(512, 25*6 + 3)\n",
    "    def forward(self, x):\n",
    "        x = self.layer1(x); x = self.layer2(x); return self.final(x)\n",
    "\n",
    "class ShapeNet(nn.Module):\n",
    "    def __init__(self):\n",
    "        super().__init__()\n",
    "        self.layer1 = nn.Sequential(nn.Conv2d(1, 8, 5, 2, 2), nn.BatchNorm2d(8), nn.ReLU(), nn.MaxPool2d(2,2))\n",
    "        self.layer2 = nn.Sequential(nn.Conv2d(8, 8, 3, 1, 1), nn.BatchNorm2d(8), nn.ReLU(), nn.MaxPool2d(2,2))\n",
    "        self.layer3 = nn.Sequential(nn.Conv2d(8,16, 3, 1, 1), nn.BatchNorm2d(16),nn.ReLU(), nn.MaxPool2d(2,2))\n",
    "        self.layer4 = nn.Sequential(nn.Conv2d(16,32,3, 1, 1), nn.BatchNorm2d(32),nn.ReLU(), nn.MaxPool2d(2,2))\n",
    "        self.layer5 = nn.Sequential(nn.Conv2d(32,64,3, 1, 1), nn.BatchNorm2d(64),nn.ReLU(), nn.MaxPool2d(2,2))\n",
    "        self.gap    = nn.AdaptiveAvgPool2d(1)\n",
    "        self.fc     = nn.Linear(64, 24)\n",
    "    def forward(self, x):\n",
    "        x = self.layer5(self.layer4(self.layer3(self.layer2(self.layer1(x)))))\n",
    "        return self.fc(self.gap(x).flatten(1))\n",
    "\n",
    "class Regressor(nn.Module):\n",
    "    def __init__(self):\n",
    "        super().__init__()\n",
    "        self.pose_head  = PoseNet()\n",
    "        self.shape_head = ShapeNet()\n",
    "    def forward(self, k36, mask):\n",
    "        return self.pose_head(k36), self.shape_head(mask)\n",
    "    def postprocess(self, pt, bone):\n",
    "        R = rot6d_to_rotmat(pt[:, :-3]); t = pt[:, -3:]\n",
    "        return R, t, bone\n",
    "\n",
    "def load_regressor_compat(reg, ckpt_path, device):\n",
    "    if not os.path.isfile(ckpt_path):\n",
    "        print(\"⚠️ pass：\", ckpt_path)\n",
    "        return reg\n",
    "    ckpt = torch.load(ckpt_path, map_location=device)\n",
    "    sd = ckpt[\"model_state_dict\"] if \"model_state_dict\" in ckpt else ckpt\n",
    "    from collections import OrderedDict\n",
    "    new_sd = OrderedDict()\n",
    "    for k,v in sd.items():\n",
    "        nk = k\n",
    "        new_sd[nk] = v\n",
    "    missing, unexpected = reg.load_state_dict(new_sd, strict=False)\n",
    "    print(\"load_state_dict missing:\", missing)\n",
    "    print(\"load_state_dict unexpected:\", unexpected)\n",
    "    return reg\n",
    "\n",
    "# =========================\n",
    "# 2) data lode single\n",
    "# =========================\n",
    "AVIAN14_TO_MODEL12 = [0, 2, 3, 4, 5, 8, 9, 10, 11, 12, 13, 6]\n",
    "\n",
    "ddir = os.path.join(ROOT, SID)\n",
    "img  = Image.open(os.path.join(ddir, \"image.png\")).convert(\"RGB\")\n",
    "mask = Image.open(os.path.join(ddir, \"mask.png\")).convert(\"L\")\n",
    "k14  = np.load(os.path.join(ddir, \"keypoints14_norm.npy\")).astype(np.float32)  # [14,2]或[14,3]\n",
    "\n",
    "# 12\n",
    "k12 = k14[:, :2][AVIAN14_TO_MODEL12]            # [12,2] in [0,1]\n",
    "k12_t = torch.from_numpy(k12).unsqueeze(0).to(DEVICE).float()\n",
    "\n",
    "# get input\n",
    "kxy = k14[:, :2]\n",
    "k36 = np.zeros(36, np.float32); k36[:28] = kxy.reshape(-1)\n",
    "k36_t = torch.from_numpy(k36).unsqueeze(0).to(DEVICE).float()\n",
    "\n",
    "tfm = T.Compose([T.Resize((64,64)), T.ToTensor()])\n",
    "m64_t = tfm(mask).unsqueeze(0).to(DEVICE).float()   # [1,1,64,64]\n",
    "\n",
    "# =========================\n",
    "# 3) Visibility/Validity processing\n",
    "# =========================\n",
    "if k14.shape[1] >= 3:\n",
    "    vis14 = (k14[:,2] > 0.5)\n",
    "    valid12 = vis14[AVIAN14_TO_MODEL12]\n",
    "else:\n",
    "    valid12 = ~((k12[:,0]==0) & (k12[:,1]==0))\n",
    "valid12_t = torch.from_numpy(valid12.astype(np.bool_)).unsqueeze(0).to(DEVICE)  # [1,12]\n",
    "\n",
    "# =========================\n",
    "# 4) Forward reasoning\n",
    "# =========================\n",
    "reg  = Regressor().to(DEVICE).eval()\n",
    "reg  = load_regressor_compat(reg, CKPT_PATH, DEVICE)\n",
    "bird = BirdModel(PATH_JSON, PATH_PRIOR, device=DEVICE)\n",
    "\n",
    "with torch.no_grad():\n",
    "    pt, bone = reg(k36_t, m64_t)\n",
    "    R, t, bone = reg.postprocess(pt, bone)\n",
    "    out = bird(R[:, :1], R[:, 1:], bone, scale=1.0)\n",
    "    k3d = out[\"keypoints\"]        # [1,12,3]\n",
    "\n",
    "\n",
    "# =========================\n",
    "def project_points_lstsq_valid(k3d, k2d, valid=None):\n",
    "    B, N, _ = k3d.shape\n",
    "    out = torch.zeros_like(k2d)\n",
    "    ones = torch.ones(B, N, 1, device=k3d.device, dtype=k3d.dtype)\n",
    "    for b in range(B):\n",
    "        m = torch.ones(N, dtype=torch.bool, device=k3d.device) if valid is None else valid[b].bool()\n",
    "        if m.sum() >= 4:\n",
    "            A = torch.cat([k3d[b, m], torch.ones(m.sum(),1, device=k3d.device, dtype=k3d.dtype)], dim=-1).float() # [M,4]\n",
    "            U = k2d[b, m].float()                                                                                # [M,2]\n",
    "            sol = torch.linalg.lstsq(A, U).solution                                                              # [4,2]\n",
    "            Aall = torch.cat([k3d[b], ones[b]], dim=-1).float()                                                  # [12,4]\n",
    "            out[b] = Aall @ sol                                                                                  # [12,2]\n",
    "        else:\n",
    "            out[b] = k2d[b]\n",
    "    return out\n",
    "\n",
    "U_pred = project_points_lstsq_valid(k3d, k12_t, valid12_t)  # [1,12,2]\n",
    "\n",
    "# =========================\n",
    "E12 = [\n",
    "    (2,1),(1,11),(2,3),(2,4),  # \n",
    "    (11,5),(5,0),(0,6),        # \n",
    "    (0,9),(0,10),              \n",
    "    (5,7),(5,8),               \n",
    "]\n",
    "\n",
    "def draw_skeleton(ax, pts_xy, valid_mask, edges, title=None, c_point='r', c_line='lime'):\n",
    "    for i, j in edges:\n",
    "        if valid_mask[i] and valid_mask[j]:\n",
    "            ax.plot([pts_xy[i,0], pts_xy[j,0]],[pts_xy[i,1], pts_xy[j,1]], '-', lw=2, color=c_line, alpha=0.9)\n",
    "    for idx, (x,y) in enumerate(pts_xy):\n",
    "        if valid_mask[idx]:\n",
    "            ax.scatter(x, y, s=30, c=c_point, edgecolors='white', linewidths=0.5, zorder=3)\n",
    "            ax.text(x+2, y-2, str(idx), color='yellow', fontsize=8, weight='bold')\n",
    "    if title: ax.set_title(title)\n",
    "    ax.axis('off')\n",
    "\n",
    "\n",
    "W, H = img.size\n",
    "U_pred_np = U_pred[0].cpu().numpy().copy(); U_pred_np[:,0]*=W; U_pred_np[:,1]*=H\n",
    "U_gt_np   = k12.copy();                   U_gt_np[:,0]*=W;    U_gt_np[:,1]*=H\n",
    "valid_np  = valid12.astype(bool)\n",
    "\n",
    "fig, ax = plt.subplots(1,2, figsize=(10,5))\n",
    "# pre\n",
    "ax[0].imshow(img); ax[0].imshow(mask.resize((W,H)), cmap='jet', alpha=0.25)\n",
    "draw_skeleton(ax[0], U_pred_np, valid_np, E12, title=\"Pred 2D skeleton\", c_point='r', c_line='lime')\n",
    "# GT\n",
    "ax[1].imshow(img); ax[1].imshow(mask.resize((W,H)), cmap='jet', alpha=0.25)\n",
    "draw_skeleton(ax[1], U_gt_np,   valid_np, E12, title=\"GT 2D skeleton\",   c_point='g', c_line='yellowgreen')\n",
    "plt.tight_layout(); plt.show()\n"
   ]
  },
  {
   "cell_type": "code",
   "execution_count": null,
   "id": "febf61f1",
   "metadata": {},
   "outputs": [
    {
     "data": {
      "image/png": "[encoded data removed]",
      "text/plain": [
       "<Figure size 600x600 with 1 Axes>"
      ]
     },
     "metadata": {},
     "output_type": "display_data"
    }
   ],
   "source": [
    "# ========= 4) 3d visualization=========\n",
    "import numpy as np\n",
    "from mpl_toolkits.mplot3d.art3d import Poly3DCollection\n",
    "import matplotlib.pyplot as plt\n",
    "\n",
    "def set_axes_equal(ax):\n",
    "    x_limits = ax.get_xlim3d(); y_limits = ax.get_ylim3d(); z_limits = ax.get_zlim3d()\n",
    "    x_range = abs(x_limits[1] - x_limits[0]); x_middle = np.mean(x_limits)\n",
    "    y_range = abs(y_limits[1] - y_limits[0]); y_middle = np.mean(y_limits)\n",
    "    z_range = abs(z_limits[1] - z_limits[0]); z_middle = np.mean(z_limits)\n",
    "    plot_radius = 0.5*max([x_range, y_range, z_range])\n",
    "    ax.set_xlim3d([x_middle-plot_radius, x_middle+plot_radius])\n",
    "    ax.set_ylim3d([y_middle-plot_radius, y_middle+plot_radius])\n",
    "    ax.set_zlim3d([z_middle-plot_radius, z_middle+plot_radius])\n",
    "\n",
    "\n",
    "E12 = [\n",
    "    (2,1),(1,11),(2,3),(2,4),  # \n",
    "    (11,5),(5,0),(0,6),        # \n",
    "    (0,9),(0,10),              # \n",
    "    (5,7),(5,8),               # \n",
    "]\n",
    "\n",
    "# ---- 3D skeleton ----\n",
    "P = k3d[0].detach().cpu().numpy()     # [12,3]\n",
    "fig = plt.figure(figsize=(6,6))\n",
    "ax = fig.add_subplot(111, projection='3d')\n",
    "\n",
    "\n",
    "if 'valid_np' in globals(): valid3d = valid_np\n",
    "else: valid3d = np.ones(len(P), dtype=bool)\n",
    "\n",
    "for i, j in E12:\n",
    "    if valid3d[i] and valid3d[j]:\n",
    "        xs, ys, zs = P[[i,j],0], P[[i,j],1], P[[i,j],2]\n",
    "        ax.plot(xs, ys, zs, lw=2, color='tab:green', alpha=0.9)\n",
    "\n",
    "ax.scatter(P[valid3d,0], P[valid3d,1], P[valid3d,2], s=30, c='r')\n",
    "for i,(x,y,z) in enumerate(P):\n",
    "    if valid3d[i]:\n",
    "        ax.text(x, y, z, str(i), color='k', fontsize=8)\n",
    "\n",
    "ax.set_title(\"3D \")\n",
    "ax.view_init(elev=10, azim=70); set_axes_equal(ax)\n",
    "plt.show()\n",
    "\n",
    "V = out[\"vertices\"][0].detach().cpu().numpy()  # [V,3]\n",
    "if hasattr(bird, \"F\"):\n",
    "    F_tri = bird.F.cpu().numpy()\n",
    "else:\n",
    "    import json\n",
    "    with open(PATH_JSON, \"r\") as f:\n",
    "        F_tri = np.array(json.load(f)[\"F\"], dtype=np.int32)  # [F,3]\n",
    "\n",
    "mesh_tris = V[F_tri]  # [F,3,3]\n",
    "\n",
    "fig = plt.figure(figsize=(6,6))\n",
    "ax = fig.add_subplot(111, projection='3d')\n",
    "poly = Poly3DCollection(mesh_tris, alpha=0.7, facecolor=(0.6,0.6,0.8,0.8))\n",
    "poly.set_edgecolor((0,0,0,0.05))\n",
    "ax.add_collection3d(poly)\n",
    "\n",
    "ax.scatter(P[valid3d,0], P[valid3d,1], P[valid3d,2], s=15, c='r', depthshade=True)\n",
    "for i,(x,y,z) in enumerate(P):\n",
    "    if valid3d[i]:\n",
    "        ax.text(x, y, z, str(i), color='k', fontsize=8)\n",
    "\n",
    "ax.set_title(\"mash + 3D \")\n",
    "mins, maxs = V.min(axis=0), V.max(axis=0)\n",
    "ax.set_xlim(mins[0], maxs[0]); ax.set_ylim(mins[1], maxs[1]); ax.set_zlim(mins[2], maxs[2])\n",
    "ax.view_init(elev=10, azim=70); set_axes_equal(ax)\n",
    "plt.show()\n"
   ]
  }
 ],
 "metadata": {
  "kernelspec": {
   "display_name": "Python 3 (ipykernel)",
   "language": "python",
   "name": "python3"
  },
  "language_info": {
   "codemirror_mode": {
    "name": "ipython",
    "version": 3
   },
   "file_extension": ".py",
   "mimetype": "text/x-python",
   "name": "python",
   "nbconvert_exporter": "python",
   "pygments_lexer": "ipython3",
   "version": "3.11.5"
  }
 },
 "nbformat": 4,
 "nbformat_minor": 5
}
